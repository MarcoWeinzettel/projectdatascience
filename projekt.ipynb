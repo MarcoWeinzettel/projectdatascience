{
  "cells": [
    {
      "cell_type": "markdown",
      "metadata": {
        "id": "view-in-github",
        "colab_type": "text"
      },
      "source": [
        "<a href=\"https://colab.research.google.com/github/MarcoWeinzettel/projectdatascience/blob/main/projekt.ipynb\" target=\"_parent\"><img src=\"https://colab.research.google.com/assets/colab-badge.svg\" alt=\"Open In Colab\"/></a>"
      ]
    },
    {
      "cell_type": "code",
      "execution_count": 65,
      "metadata": {
        "id": "CFpaDqrv9l_J"
      },
      "outputs": [],
      "source": [
        "!apt-get -qq install git\n"
      ]
    },
    {
      "cell_type": "code",
      "execution_count": 66,
      "metadata": {
        "colab": {
          "base_uri": "https://localhost:8080/"
        },
        "id": "L5RvmtEYAk5a",
        "outputId": "86d59ef5-ae4a-4276-ccae-71981e5f8687"
      },
      "outputs": [
        {
          "output_type": "stream",
          "name": "stdout",
          "text": [
            "/bin/bash: line 1: cd: projectdatascience: No such file or directory\n"
          ]
        }
      ],
      "source": [
        "!cd projectdatascience"
      ]
    },
    {
      "cell_type": "code",
      "source": [
        "# Git-Konfiguration einrichten (ersetze die Platzhalter)\n",
        "!git config --global MarcoWeinzettel \"DeinGitHubBenutzername\"\n",
        "!git config --global mar.weinzettel.23@heilbronn.dhbw.de \"deine@email.com\"\n"
      ],
      "metadata": {
        "colab": {
          "base_uri": "https://localhost:8080/"
        },
        "id": "dkUr03gp3hsk",
        "outputId": "85287edb-838c-4f30-961c-793235c17a05"
      },
      "execution_count": 67,
      "outputs": [
        {
          "output_type": "stream",
          "name": "stdout",
          "text": [
            "error: key does not contain a section: MarcoWeinzettel\n"
          ]
        }
      ]
    },
    {
      "cell_type": "code",
      "source": [
        "# Änderungen vom Remote-Repository abrufen (GitHub) und aktualisieren\n",
        "# Ersetze \"origin\" durch den Namen deines Remote-Repositories auf GitHub und\n",
        "# \"BRANCH_NAME\" durch den Namen des zu aktualisierenden Branches.\n",
        "!git pull projectdatascience\n"
      ],
      "metadata": {
        "colab": {
          "base_uri": "https://localhost:8080/"
        },
        "id": "TXYJguIG4omM",
        "outputId": "1444b8d0-30ed-494d-8a73-7243e536e516"
      },
      "execution_count": 68,
      "outputs": [
        {
          "output_type": "stream",
          "name": "stdout",
          "text": [
            "fatal: 'projectdatascience' does not appear to be a git repository\n",
            "fatal: Could not read from remote repository.\n",
            "\n",
            "Please make sure you have the correct access rights\n",
            "and the repository exists.\n"
          ]
        }
      ]
    },
    {
      "cell_type": "code",
      "source": [
        "!git branch"
      ],
      "metadata": {
        "colab": {
          "base_uri": "https://localhost:8080/"
        },
        "id": "INC65ti-4_gx",
        "outputId": "6a4b3c02-67c5-4ed7-d7e2-fb6b15330a05"
      },
      "execution_count": 69,
      "outputs": [
        {
          "output_type": "stream",
          "name": "stdout",
          "text": [
            "* \u001b[32mmain\u001b[m\n"
          ]
        }
      ]
    },
    {
      "cell_type": "code",
      "execution_count": 70,
      "metadata": {
        "id": "oftUGNDRAtX6"
      },
      "outputs": [],
      "source": [
        "!git add ."
      ]
    },
    {
      "cell_type": "code",
      "execution_count": 71,
      "metadata": {
        "colab": {
          "base_uri": "https://localhost:8080/"
        },
        "id": "_iQK0IBCBjAJ",
        "outputId": "ad07deb8-6560-40bc-c829-b7c3ec445928"
      },
      "outputs": [
        {
          "output_type": "stream",
          "name": "stdout",
          "text": [
            "error: src refspec aktiencode does not match any\n",
            "\u001b[31merror: failed to push some refs to 'https://github.com/MarcoWeinzettel/projectdatascience.git'\n",
            "\u001b[m"
          ]
        }
      ],
      "source": [
        "!git push origin aktiencode"
      ]
    },
    {
      "cell_type": "code",
      "source": [
        "# Repository klonen (ersetze REPO_URL durch die Repository-URL)\n",
        "!git clone https://github.com/MarcoWeinzettel/projectdatascience.git\n"
      ],
      "metadata": {
        "id": "gL8RJScs4Bq6"
      },
      "execution_count": null,
      "outputs": []
    },
    {
      "cell_type": "code",
      "source": [
        "# Änderungen speichern und auf GitHub zurücksenden (optional, nur wenn du Änderungen gemacht hast)\n",
        "# Dieser Schritt erfordert die Anmeldung bei GitHub.\n",
        "git add .\n",
        "git commit -m \"Deine Commit-Nachricht hier\"\n",
        "git push origin BRANCH_NAME\n"
      ],
      "metadata": {
        "id": "0pTWHV2t4xGW"
      },
      "execution_count": null,
      "outputs": []
    }
  ],
  "metadata": {
    "colab": {
      "provenance": [],
      "authorship_tag": "ABX9TyNbQr+M7VGq0fvFfrvCOYf5",
      "include_colab_link": true
    },
    "kernelspec": {
      "display_name": "Python 3",
      "name": "python3"
    },
    "language_info": {
      "name": "python"
    }
  },
  "nbformat": 4,
  "nbformat_minor": 0
}