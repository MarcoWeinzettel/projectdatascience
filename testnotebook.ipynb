{
  "nbformat": 4,
  "nbformat_minor": 0,
  "metadata": {
    "colab": {
      "provenance": [],
      "authorship_tag": "ABX9TyMMSs7bCRxkRYhdItDWXBG1",
      "include_colab_link": true
    },
    "kernelspec": {
      "name": "python3",
      "display_name": "Python 3"
    },
    "language_info": {
      "name": "python"
    }
  },
  "cells": [
    {
      "cell_type": "markdown",
      "metadata": {
        "id": "view-in-github",
        "colab_type": "text"
      },
      "source": [
        "<a href=\"https://colab.research.google.com/github/MarcoWeinzettel/projectdatascience/blob/main/testnotebook.ipynb\" target=\"_parent\"><img src=\"https://colab.research.google.com/assets/colab-badge.svg\" alt=\"Open In Colab\"/></a>"
      ]
    },
    {
      "cell_type": "code",
      "execution_count": 1,
      "metadata": {
        "colab": {
          "base_uri": "https://localhost:8080/"
        },
        "id": "zpoqIanp9LKD",
        "outputId": "49223d1f-0adf-4efe-cacb-fd0fda0ea33a"
      },
      "outputs": [
        {
          "output_type": "stream",
          "name": "stdout",
          "text": [
            "Cloning into 'projectdatascience'...\n",
            "remote: Enumerating objects: 21, done.\u001b[K\n",
            "remote: Counting objects: 100% (21/21), done.\u001b[K\n",
            "remote: Compressing objects: 100% (17/17), done.\u001b[K\n",
            "remote: Total 21 (delta 2), reused 0 (delta 0), pack-reused 0\u001b[K\n",
            "Receiving objects: 100% (21/21), 7.51 KiB | 7.51 MiB/s, done.\n",
            "Resolving deltas: 100% (2/2), done.\n"
          ]
        }
      ],
      "source": [
        "!git clone https://github.com/MarcoWeinzettel/projectdatascience.git"
      ]
    },
    {
      "cell_type": "code",
      "source": [
        "!cd projectdatascience"
      ],
      "metadata": {
        "id": "DnqcjGsfDKbz"
      },
      "execution_count": 9,
      "outputs": []
    },
    {
      "cell_type": "code",
      "source": [
        "!git config --global user.name MarcoWeinzettel\n",
        "!git config --global user.email mar.weinzettel.23@heilbronn.dhbw.de\n",
        "!git config --global user.password DeqGNW78adX8xz\n",
        "\n"
      ],
      "metadata": {
        "id": "Fczoy5oK-oz3"
      },
      "execution_count": 2,
      "outputs": []
    },
    {
      "cell_type": "code",
      "source": [
        "!apt-get -qq install git"
      ],
      "metadata": {
        "id": "dKKvZ3SEBC7B"
      },
      "execution_count": 6,
      "outputs": []
    },
    {
      "cell_type": "code",
      "source": [
        "\n",
        "# Änderungen vom Remote-Repository (GitHub) abrufen und aktualisieren\n",
        "# Ersetze \"origin\" durch den Namen deines Remote-Repositories auf GitHub und\n",
        "# \"BRANCH_NAME\" durch den Namen des zu aktualisierenden Branches.\n",
        "!git pull https://github.com/MarcoWeinzettel/projectdatascience.git\n"
      ],
      "metadata": {
        "colab": {
          "base_uri": "https://localhost:8080/"
        },
        "id": "mLuZ1OnhDlLk",
        "outputId": "cb59ca71-9b04-457d-b0d9-1a373a8880b3"
      },
      "execution_count": 15,
      "outputs": [
        {
          "output_type": "stream",
          "name": "stdout",
          "text": [
            "fatal: not a git repository (or any of the parent directories): .git\n"
          ]
        }
      ]
    }
  ]
}